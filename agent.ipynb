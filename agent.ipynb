{
 "cells": [
  {
   "cell_type": "markdown",
   "id": "6b5959cd-48d3-432f-a5a2-78a66c2325ce",
   "metadata": {},
   "source": [
    "# DES Agent"
   ]
  },
  {
   "cell_type": "markdown",
   "id": "646da2f2-c307-4630-9037-3d1ca1e4d359",
   "metadata": {},
   "source": [
    "## 1. Imports"
   ]
  },
  {
   "cell_type": "code",
   "execution_count": 1,
   "id": "cf27e7e4-b678-400a-af21-b9ed4a4f6600",
   "metadata": {},
   "outputs": [],
   "source": [
    "from langchain_ollama import OllamaLLM\n",
    "from langchain_core.prompts import PromptTemplate\n",
    "from fastmcp import Client\n",
    "import asyncio\n",
    "import json"
   ]
  },
  {
   "cell_type": "markdown",
   "id": "b33d5077-07ba-4797-b8f9-e4d31251129f",
   "metadata": {},
   "source": [
    "## 2. Test code"
   ]
  },
  {
   "cell_type": "markdown",
   "id": "a302e950-9af1-40c6-af37-752b9501aee5",
   "metadata": {},
   "source": [
    "## Agent pipeline"
   ]
  },
  {
   "cell_type": "code",
   "execution_count": 6,
   "id": "d4335919-08f8-492c-a5e9-6c5489042051",
   "metadata": {},
   "outputs": [],
   "source": [
    "async def fetch_schema():\n",
    "    \"\"\"Fetch experiment schema using FastMCP client\"\"\"\n",
    "    async with Client(\"http://localhost:8000\") as client:\n",
    "        resource = await client.call_tools(\"get_experiment_template\")\n",
    "        return json.loads(resource.content.text)"
   ]
  },
  {
   "cell_type": "code",
   "execution_count": 7,
   "id": "3e2bd4a8-de6b-424c-a6a8-6f3ce2372c09",
   "metadata": {},
   "outputs": [],
   "source": [
    "async def run_simulation(parameters):\n",
    "    \"\"\"Run simulation using FastMCP client\"\"\"\n",
    "    async with Client(\"http://localhost:8000\") as client:\n",
    "        result = await client.call_tool(\"run_experiment\", parameters)\n",
    "        return result.content[0].text"
   ]
  },
  {
   "cell_type": "code",
   "execution_count": 8,
   "id": "914a122b-37c0-4faf-a781-872487788f41",
   "metadata": {},
   "outputs": [],
   "source": [
    "async def main(model_name=\"gemma3:latest\"):\n",
    "    # 1. Connect to Ollama model\n",
    "    llm = OllamaLLM(model=model_name, base_url=\"http://localhost:11434\")\n",
    "    \n",
    "    # 2. Fetch experiment schema using FastMCP\n",
    "    schema = await fetch_schema()\n",
    "    print(\"Schema retrieved:\", schema)\n",
    "    \n",
    "    # 3. Create LangChain prompt\n",
    "    PROMPT_TEMPLATE = \"\"\"\n",
    "    You are a discrete-event simulation assistant. \n",
    "    \n",
    "    You help turn natural language into structured simulation parameters.\n",
    "    \n",
    "    Here is the simulation configuration schema:\n",
    "    {schema}\n",
    "    \n",
    "    User request:\n",
    "    {user_input}\n",
    "    \n",
    "    Return the parameters as a JSON object.\n",
    "    \"\"\"\n",
    "    \n",
    "    prompt = PromptTemplate.from_template(PROMPT_TEMPLATE)\n",
    "    chain = prompt | llm\n",
    "    \n",
    "    # 4. Example usage\n",
    "    user_input = \"Run with 14 operators and 12 nurses\"\n",
    "    response = chain.invoke({\"schema\": schema, \"user_input\": user_input})\n",
    "    \n",
    "    # 5. Parse and run simulation\n",
    "    parameters = json.loads(response)\n",
    "    result = await run_simulation(parameters)\n",
    "    print(\"Simulation result:\", result)"
   ]
  },
  {
   "cell_type": "code",
   "execution_count": 9,
   "id": "8974f70e-7023-48ce-8d9d-7ccebebd0c4a",
   "metadata": {},
   "outputs": [
    {
     "ename": "RuntimeError",
     "evalue": "Client failed to connect: Session terminated",
     "output_type": "error",
     "traceback": [
      "\u001b[31m---------------------------------------------------------------------------\u001b[39m",
      "\u001b[31mMcpError\u001b[39m                                  Traceback (most recent call last)",
      "\u001b[36mFile \u001b[39m\u001b[32m~/miniforge3/envs/des-agent/lib/python3.11/site-packages/fastmcp/client/client.py:467\u001b[39m, in \u001b[36mClient._session_runner\u001b[39m\u001b[34m(self)\u001b[39m\n\u001b[32m    466\u001b[39m \u001b[38;5;28;01masync\u001b[39;00m \u001b[38;5;28;01mwith\u001b[39;00m AsyncExitStack() \u001b[38;5;28;01mas\u001b[39;00m stack:\n\u001b[32m--> \u001b[39m\u001b[32m467\u001b[39m     \u001b[38;5;28;01mawait\u001b[39;00m stack.enter_async_context(\u001b[38;5;28mself\u001b[39m._context_manager())\n\u001b[32m    468\u001b[39m     \u001b[38;5;66;03m# Session/context is now ready\u001b[39;00m\n",
      "\u001b[36mFile \u001b[39m\u001b[32m~/miniforge3/envs/des-agent/lib/python3.11/contextlib.py:650\u001b[39m, in \u001b[36mAsyncExitStack.enter_async_context\u001b[39m\u001b[34m(self, cm)\u001b[39m\n\u001b[32m    647\u001b[39m     \u001b[38;5;28;01mraise\u001b[39;00m \u001b[38;5;167;01mTypeError\u001b[39;00m(\u001b[33mf\u001b[39m\u001b[33m\"\u001b[39m\u001b[33m'\u001b[39m\u001b[38;5;132;01m{\u001b[39;00m\u001b[38;5;28mcls\u001b[39m.\u001b[34m__module__\u001b[39m\u001b[38;5;132;01m}\u001b[39;00m\u001b[33m.\u001b[39m\u001b[38;5;132;01m{\u001b[39;00m\u001b[38;5;28mcls\u001b[39m.\u001b[34m__qualname__\u001b[39m\u001b[38;5;132;01m}\u001b[39;00m\u001b[33m'\u001b[39m\u001b[33m object does \u001b[39m\u001b[33m\"\u001b[39m\n\u001b[32m    648\u001b[39m                     \u001b[33mf\u001b[39m\u001b[33m\"\u001b[39m\u001b[33mnot support the asynchronous context manager protocol\u001b[39m\u001b[33m\"\u001b[39m\n\u001b[32m    649\u001b[39m                    ) \u001b[38;5;28;01mfrom\u001b[39;00m\u001b[38;5;250m \u001b[39m\u001b[38;5;28;01mNone\u001b[39;00m\n\u001b[32m--> \u001b[39m\u001b[32m650\u001b[39m result = \u001b[38;5;28;01mawait\u001b[39;00m _enter(cm)\n\u001b[32m    651\u001b[39m \u001b[38;5;28mself\u001b[39m._push_async_cm_exit(cm, _exit)\n",
      "\u001b[36mFile \u001b[39m\u001b[32m~/miniforge3/envs/des-agent/lib/python3.11/contextlib.py:210\u001b[39m, in \u001b[36m_AsyncGeneratorContextManager.__aenter__\u001b[39m\u001b[34m(self)\u001b[39m\n\u001b[32m    209\u001b[39m \u001b[38;5;28;01mtry\u001b[39;00m:\n\u001b[32m--> \u001b[39m\u001b[32m210\u001b[39m     \u001b[38;5;28;01mreturn\u001b[39;00m \u001b[38;5;28;01mawait\u001b[39;00m anext(\u001b[38;5;28mself\u001b[39m.gen)\n\u001b[32m    211\u001b[39m \u001b[38;5;28;01mexcept\u001b[39;00m \u001b[38;5;167;01mStopAsyncIteration\u001b[39;00m:\n",
      "\u001b[36mFile \u001b[39m\u001b[32m~/miniforge3/envs/des-agent/lib/python3.11/site-packages/fastmcp/client/client.py:341\u001b[39m, in \u001b[36mClient._context_manager\u001b[39m\u001b[34m(self)\u001b[39m\n\u001b[32m    339\u001b[39m \u001b[38;5;129m@asynccontextmanager\u001b[39m\n\u001b[32m    340\u001b[39m \u001b[38;5;28;01masync\u001b[39;00m \u001b[38;5;28;01mdef\u001b[39;00m\u001b[38;5;250m \u001b[39m\u001b[34m_context_manager\u001b[39m(\u001b[38;5;28mself\u001b[39m):\n\u001b[32m--> \u001b[39m\u001b[32m341\u001b[39m \u001b[43m    \u001b[49m\u001b[38;5;28;43;01mwith\u001b[39;49;00m\u001b[43m \u001b[49m\u001b[43mcatch\u001b[49m\u001b[43m(\u001b[49m\u001b[43mget_catch_handlers\u001b[49m\u001b[43m(\u001b[49m\u001b[43m)\u001b[49m\u001b[43m)\u001b[49m\u001b[43m:\u001b[49m\n\u001b[32m    342\u001b[39m \u001b[43m        \u001b[49m\u001b[38;5;28;43;01masync\u001b[39;49;00m\u001b[43m \u001b[49m\u001b[38;5;28;43;01mwith\u001b[39;49;00m\u001b[43m \u001b[49m\u001b[38;5;28;43mself\u001b[39;49m\u001b[43m.\u001b[49m\u001b[43mtransport\u001b[49m\u001b[43m.\u001b[49m\u001b[43mconnect_session\u001b[49m\u001b[43m(\u001b[49m\n\u001b[32m    343\u001b[39m \u001b[43m            \u001b[49m\u001b[43m*\u001b[49m\u001b[43m*\u001b[49m\u001b[38;5;28;43mself\u001b[39;49m\u001b[43m.\u001b[49m\u001b[43m_session_kwargs\u001b[49m\n\u001b[32m    344\u001b[39m \u001b[43m        \u001b[49m\u001b[43m)\u001b[49m\u001b[43m \u001b[49m\u001b[38;5;28;43;01mas\u001b[39;49;00m\u001b[43m \u001b[49m\u001b[43msession\u001b[49m\u001b[43m:\u001b[49m\n",
      "\u001b[36mFile \u001b[39m\u001b[32m~/miniforge3/envs/des-agent/lib/python3.11/site-packages/exceptiongroup/_catch.py:39\u001b[39m, in \u001b[36m_Catcher.__exit__\u001b[39m\u001b[34m(self, etype, exc, tb)\u001b[39m\n\u001b[32m     38\u001b[39m \u001b[38;5;28;01mtry\u001b[39;00m:\n\u001b[32m---> \u001b[39m\u001b[32m39\u001b[39m     \u001b[38;5;28;01mraise\u001b[39;00m unhandled \u001b[38;5;28;01mfrom\u001b[39;00m\u001b[38;5;250m \u001b[39m\u001b[34;01mexc\u001b[39;00m\u001b[34;01m.\u001b[39;00m\u001b[34;01m__cause__\u001b[39;00m\n\u001b[32m     40\u001b[39m \u001b[38;5;28;01mexcept\u001b[39;00m BaseExceptionGroup:\n\u001b[32m     41\u001b[39m     \u001b[38;5;66;03m# Change __context__ to __cause__ because Python 3.11 does this\u001b[39;00m\n\u001b[32m     42\u001b[39m     \u001b[38;5;66;03m# too\u001b[39;00m\n",
      "\u001b[36mFile \u001b[39m\u001b[32m~/miniforge3/envs/des-agent/lib/python3.11/site-packages/exceptiongroup/_catch.py:65\u001b[39m, in \u001b[36m_Catcher.handle_exception\u001b[39m\u001b[34m(self, exc)\u001b[39m\n\u001b[32m     64\u001b[39m     \u001b[38;5;28;01mexcept\u001b[39;00m BaseExceptionGroup:\n\u001b[32m---> \u001b[39m\u001b[32m65\u001b[39m         result = \u001b[43mhandler\u001b[49m\u001b[43m(\u001b[49m\u001b[43mmatched\u001b[49m\u001b[43m)\u001b[49m\n\u001b[32m     66\u001b[39m \u001b[38;5;28;01mexcept\u001b[39;00m BaseExceptionGroup \u001b[38;5;28;01mas\u001b[39;00m new_exc:\n",
      "\u001b[36mFile \u001b[39m\u001b[32m~/miniforge3/envs/des-agent/lib/python3.11/site-packages/fastmcp/utilities/exceptions.py:29\u001b[39m, in \u001b[36m_exception_handler\u001b[39m\u001b[34m(group)\u001b[39m\n\u001b[32m     23\u001b[39m     \u001b[38;5;28;01mraise\u001b[39;00m McpError(\n\u001b[32m     24\u001b[39m         error=mcp.types.ErrorData(\n\u001b[32m     25\u001b[39m             code=httpx.codes.REQUEST_TIMEOUT,\n\u001b[32m     26\u001b[39m             message=\u001b[33m\"\u001b[39m\u001b[33mTimed out while waiting for response.\u001b[39m\u001b[33m\"\u001b[39m,\n\u001b[32m     27\u001b[39m         )\n\u001b[32m     28\u001b[39m     )\n\u001b[32m---> \u001b[39m\u001b[32m29\u001b[39m \u001b[38;5;28;01mraise\u001b[39;00m leaf\n",
      "\u001b[36mFile \u001b[39m\u001b[32m~/miniforge3/envs/des-agent/lib/python3.11/site-packages/fastmcp/client/transports.py:293\u001b[39m, in \u001b[36mStreamableHttpTransport.connect_session\u001b[39m\u001b[34m(self, **session_kwargs)\u001b[39m\n\u001b[32m    290\u001b[39m \u001b[38;5;28;01masync\u001b[39;00m \u001b[38;5;28;01mwith\u001b[39;00m ClientSession(\n\u001b[32m    291\u001b[39m     read_stream, write_stream, **session_kwargs\n\u001b[32m    292\u001b[39m ) \u001b[38;5;28;01mas\u001b[39;00m session:\n\u001b[32m--> \u001b[39m\u001b[32m293\u001b[39m     \u001b[38;5;28;01myield\u001b[39;00m session\n",
      "\u001b[36mFile \u001b[39m\u001b[32m~/miniforge3/envs/des-agent/lib/python3.11/site-packages/fastmcp/client/client.py:350\u001b[39m, in \u001b[36mClient._context_manager\u001b[39m\u001b[34m(self)\u001b[39m\n\u001b[32m    348\u001b[39m \u001b[38;5;28;01mwith\u001b[39;00m anyio.fail_after(\u001b[38;5;28mself\u001b[39m._init_timeout):\n\u001b[32m    349\u001b[39m     \u001b[38;5;28mself\u001b[39m._session_state.initialize_result = (\n\u001b[32m--> \u001b[39m\u001b[32m350\u001b[39m         \u001b[38;5;28;01mawait\u001b[39;00m \u001b[38;5;28mself\u001b[39m._session_state.session.initialize()\n\u001b[32m    351\u001b[39m     )\n\u001b[32m    352\u001b[39m \u001b[38;5;28;01myield\u001b[39;00m\n",
      "\u001b[36mFile \u001b[39m\u001b[32m~/miniforge3/envs/des-agent/lib/python3.11/site-packages/mcp/client/session.py:151\u001b[39m, in \u001b[36mClientSession.initialize\u001b[39m\u001b[34m(self)\u001b[39m\n\u001b[32m    142\u001b[39m roots = (\n\u001b[32m    143\u001b[39m     \u001b[38;5;66;03m# TODO: Should this be based on whether we\u001b[39;00m\n\u001b[32m    144\u001b[39m     \u001b[38;5;66;03m# _will_ send notifications, or only whether\u001b[39;00m\n\u001b[32m   (...)\u001b[39m\u001b[32m    148\u001b[39m     \u001b[38;5;28;01melse\u001b[39;00m \u001b[38;5;28;01mNone\u001b[39;00m\n\u001b[32m    149\u001b[39m )\n\u001b[32m--> \u001b[39m\u001b[32m151\u001b[39m result = \u001b[38;5;28;01mawait\u001b[39;00m \u001b[38;5;28mself\u001b[39m.send_request(\n\u001b[32m    152\u001b[39m     types.ClientRequest(\n\u001b[32m    153\u001b[39m         types.InitializeRequest(\n\u001b[32m    154\u001b[39m             method=\u001b[33m\"\u001b[39m\u001b[33minitialize\u001b[39m\u001b[33m\"\u001b[39m,\n\u001b[32m    155\u001b[39m             params=types.InitializeRequestParams(\n\u001b[32m    156\u001b[39m                 protocolVersion=types.LATEST_PROTOCOL_VERSION,\n\u001b[32m    157\u001b[39m                 capabilities=types.ClientCapabilities(\n\u001b[32m    158\u001b[39m                     sampling=sampling,\n\u001b[32m    159\u001b[39m                     elicitation=elicitation,\n\u001b[32m    160\u001b[39m                     experimental=\u001b[38;5;28;01mNone\u001b[39;00m,\n\u001b[32m    161\u001b[39m                     roots=roots,\n\u001b[32m    162\u001b[39m                 ),\n\u001b[32m    163\u001b[39m                 clientInfo=\u001b[38;5;28mself\u001b[39m._client_info,\n\u001b[32m    164\u001b[39m             ),\n\u001b[32m    165\u001b[39m         )\n\u001b[32m    166\u001b[39m     ),\n\u001b[32m    167\u001b[39m     types.InitializeResult,\n\u001b[32m    168\u001b[39m )\n\u001b[32m    170\u001b[39m \u001b[38;5;28;01mif\u001b[39;00m result.protocolVersion \u001b[38;5;129;01mnot\u001b[39;00m \u001b[38;5;129;01min\u001b[39;00m SUPPORTED_PROTOCOL_VERSIONS:\n",
      "\u001b[36mFile \u001b[39m\u001b[32m~/miniforge3/envs/des-agent/lib/python3.11/site-packages/mcp/shared/session.py:286\u001b[39m, in \u001b[36mBaseSession.send_request\u001b[39m\u001b[34m(self, request, result_type, request_read_timeout_seconds, metadata, progress_callback)\u001b[39m\n\u001b[32m    285\u001b[39m \u001b[38;5;28;01mif\u001b[39;00m \u001b[38;5;28misinstance\u001b[39m(response_or_error, JSONRPCError):\n\u001b[32m--> \u001b[39m\u001b[32m286\u001b[39m     \u001b[38;5;28;01mraise\u001b[39;00m McpError(response_or_error.error)\n\u001b[32m    287\u001b[39m \u001b[38;5;28;01melse\u001b[39;00m:\n",
      "\u001b[31mMcpError\u001b[39m: Session terminated",
      "\nThe above exception was the direct cause of the following exception:\n",
      "\u001b[31mRuntimeError\u001b[39m                              Traceback (most recent call last)",
      "\u001b[36mCell\u001b[39m\u001b[36m \u001b[39m\u001b[32mIn[9]\u001b[39m\u001b[32m, line 2\u001b[39m\n\u001b[32m      1\u001b[39m \u001b[38;5;66;03m# use await in Jupyter book asyncio.run(main()) in module\u001b[39;00m\n\u001b[32m----> \u001b[39m\u001b[32m2\u001b[39m \u001b[38;5;28;01mawait\u001b[39;00m main()\n",
      "\u001b[36mCell\u001b[39m\u001b[36m \u001b[39m\u001b[32mIn[8]\u001b[39m\u001b[32m, line 6\u001b[39m, in \u001b[36mmain\u001b[39m\u001b[34m()\u001b[39m\n\u001b[32m      3\u001b[39m llm = OllamaLLM(model=\u001b[33m\"\u001b[39m\u001b[33mgemma3:latest\u001b[39m\u001b[33m\"\u001b[39m, base_url=\u001b[33m\"\u001b[39m\u001b[33mhttp://localhost:11434\u001b[39m\u001b[33m\"\u001b[39m)\n\u001b[32m      5\u001b[39m \u001b[38;5;66;03m# 2. Fetch experiment schema using FastMCP\u001b[39;00m\n\u001b[32m----> \u001b[39m\u001b[32m6\u001b[39m schema = \u001b[38;5;28;01mawait\u001b[39;00m fetch_schema()\n\u001b[32m      7\u001b[39m \u001b[38;5;28mprint\u001b[39m(\u001b[33m\"\u001b[39m\u001b[33mSchema retrieved:\u001b[39m\u001b[33m\"\u001b[39m, schema)\n\u001b[32m      9\u001b[39m \u001b[38;5;66;03m# 3. Create LangChain prompt\u001b[39;00m\n",
      "\u001b[36mCell\u001b[39m\u001b[36m \u001b[39m\u001b[32mIn[6]\u001b[39m\u001b[32m, line 3\u001b[39m, in \u001b[36mfetch_schema\u001b[39m\u001b[34m()\u001b[39m\n\u001b[32m      1\u001b[39m \u001b[38;5;28;01masync\u001b[39;00m \u001b[38;5;28;01mdef\u001b[39;00m\u001b[38;5;250m \u001b[39m\u001b[34mfetch_schema\u001b[39m():\n\u001b[32m      2\u001b[39m \u001b[38;5;250m    \u001b[39m\u001b[33;03m\"\"\"Fetch experiment schema using FastMCP client\"\"\"\u001b[39;00m\n\u001b[32m----> \u001b[39m\u001b[32m3\u001b[39m     \u001b[38;5;28;01masync\u001b[39;00m \u001b[38;5;28;01mwith\u001b[39;00m Client(\u001b[33m\"\u001b[39m\u001b[33mhttp://localhost:8000\u001b[39m\u001b[33m\"\u001b[39m) \u001b[38;5;28;01mas\u001b[39;00m client:\n\u001b[32m      4\u001b[39m         resource = \u001b[38;5;28;01mawait\u001b[39;00m client.call_tools(\u001b[33m\"\u001b[39m\u001b[33mget_experiment_template\u001b[39m\u001b[33m\"\u001b[39m)\n\u001b[32m      5\u001b[39m         \u001b[38;5;28;01mreturn\u001b[39;00m json.loads(resource.content.text)\n",
      "\u001b[36mFile \u001b[39m\u001b[32m~/miniforge3/envs/des-agent/lib/python3.11/site-packages/fastmcp/client/client.py:362\u001b[39m, in \u001b[36mClient.__aenter__\u001b[39m\u001b[34m(self)\u001b[39m\n\u001b[32m    361\u001b[39m \u001b[38;5;28;01masync\u001b[39;00m \u001b[38;5;28;01mdef\u001b[39;00m\u001b[38;5;250m \u001b[39m\u001b[34m__aenter__\u001b[39m(\u001b[38;5;28mself\u001b[39m):\n\u001b[32m--> \u001b[39m\u001b[32m362\u001b[39m     \u001b[38;5;28;01mreturn\u001b[39;00m \u001b[38;5;28;01mawait\u001b[39;00m \u001b[38;5;28mself\u001b[39m._connect()\n",
      "\u001b[36mFile \u001b[39m\u001b[32m~/miniforge3/envs/des-agent/lib/python3.11/site-packages/fastmcp/client/client.py:406\u001b[39m, in \u001b[36mClient._connect\u001b[39m\u001b[34m(self)\u001b[39m\n\u001b[32m    404\u001b[39m             \u001b[38;5;28;01mif\u001b[39;00m \u001b[38;5;28misinstance\u001b[39m(exception, httpx.HTTPStatusError):\n\u001b[32m    405\u001b[39m                 \u001b[38;5;28;01mraise\u001b[39;00m exception\n\u001b[32m--> \u001b[39m\u001b[32m406\u001b[39m             \u001b[38;5;28;01mraise\u001b[39;00m \u001b[38;5;167;01mRuntimeError\u001b[39;00m(\n\u001b[32m    407\u001b[39m                 \u001b[33mf\u001b[39m\u001b[33m\"\u001b[39m\u001b[33mClient failed to connect: \u001b[39m\u001b[38;5;132;01m{\u001b[39;00mexception\u001b[38;5;132;01m}\u001b[39;00m\u001b[33m\"\u001b[39m\n\u001b[32m    408\u001b[39m             ) \u001b[38;5;28;01mfrom\u001b[39;00m\u001b[38;5;250m \u001b[39m\u001b[34;01mexception\u001b[39;00m\n\u001b[32m    410\u001b[39m     \u001b[38;5;28mself\u001b[39m._session_state.nesting_counter += \u001b[32m1\u001b[39m\n\u001b[32m    411\u001b[39m \u001b[38;5;28;01mreturn\u001b[39;00m \u001b[38;5;28mself\u001b[39m\n",
      "\u001b[31mRuntimeError\u001b[39m: Client failed to connect: Session terminated"
     ]
    }
   ],
   "source": [
    "# use await in Jupyter book asyncio.run(main()) in module\n",
    "await main()"
   ]
  },
  {
   "cell_type": "code",
   "execution_count": null,
   "id": "2da74dae-fcf3-4925-93f3-e17fe688b7d9",
   "metadata": {},
   "outputs": [],
   "source": []
  },
  {
   "cell_type": "code",
   "execution_count": null,
   "id": "88fe35c6-f85f-4f70-bb50-a439d85e4df3",
   "metadata": {},
   "outputs": [],
   "source": [
    "# agent_pipeline.py\n",
    "# 1. Connect to running Ollama model (gemma3:latest)\n",
    "llm = OllamaLLM(model=\"gemma3:latest\", base_url=\"http://localhost:11434\")\n",
    "\n",
    "# 2. Fetch experiment schema for prompting\n",
    "schema = requests.get(\"http://localhost:8000/resource/experiment_template\")\n",
    "print(schema)\n",
    "\n",
    "schema = schema.json()\n",
    "\n",
    "# 3. Create LangChain prompt\n",
    "PROMPT_TEMPLATE = \"\"\"\n",
    "You are a discrete-event simulation assistant. \n",
    "\n",
    "You help turn natural language into structured simulation parameters.\n",
    "\n",
    "Here is the simulation configuration schema:\n",
    "{schema}\n",
    "\n",
    "User request:\n",
    "{user_input}\n",
    "\n",
    "Return the parameters as a JSON object.\n",
    "\"\"\"\n",
    "\n",
    "prompt = PromptTemplate.from_template(PROMPT_TEMPLATE)\n",
    "chain = prompt | llm"
   ]
  },
  {
   "cell_type": "code",
   "execution_count": null,
   "id": "aed9a648-ebb1-4ed7-a65f-7a203b64b1d7",
   "metadata": {},
   "outputs": [],
   "source": [
    "schema"
   ]
  },
  {
   "cell_type": "code",
   "execution_count": null,
   "id": "9a587c92-a15f-4d9f-869a-fe525b6c1090",
   "metadata": {},
   "outputs": [],
   "source": [
    "# 4. Get user request\n",
    "user_input = input(\"Describe your experiment (e.g. 'Run with 14 operators and add 5% demand'): \")\n",
    "\n",
    "# 5. LLM turns prompt into JSON params\n",
    "param_response = chain.invoke({\n",
    "    \"schema\": str(schema),  # convert dict to string for prompt clarity\n",
    "    \"user_input\": user_input\n",
    "})\n",
    "\n",
    "print(\"\\n🧠 LLM parameter output:\")\n",
    "print(param_response)"
   ]
  },
  {
   "cell_type": "code",
   "execution_count": null,
   "id": "9184df57-82b5-4d99-b5ee-5c0aa4690414",
   "metadata": {},
   "outputs": [],
   "source": [
    "# 6. Submit to MCP server and get results\n",
    "try:\n",
    "    params = eval(param_response.strip())  # optionally use `json.loads` if well-formatted\n",
    "    results = requests.post(\n",
    "        \"http://localhost:8000/tool/run_experiment\",\n",
    "        json={\"parameters\": params}\n",
    "    ).json()\n",
    "    \n",
    "    print(\"\\n📊 Simulation Results:\")\n",
    "    for k, v in results.items():\n",
    "        print(f\" - {k}: {v:.2f}\")\n",
    "except Exception as e:\n",
    "    print(\"❌ Could not parse or run experiment:\", e)"
   ]
  },
  {
   "cell_type": "code",
   "execution_count": null,
   "id": "59356e90-d661-4efe-be6c-81e4126c4c9e",
   "metadata": {},
   "outputs": [],
   "source": []
  },
  {
   "cell_type": "code",
   "execution_count": null,
   "id": "fcbd9658-aadf-4dc1-9a59-5d995bd87364",
   "metadata": {},
   "outputs": [],
   "source": []
  }
 ],
 "metadata": {
  "kernelspec": {
   "display_name": "Python 3 (ipykernel)",
   "language": "python",
   "name": "python3"
  },
  "language_info": {
   "codemirror_mode": {
    "name": "ipython",
    "version": 3
   },
   "file_extension": ".py",
   "mimetype": "text/x-python",
   "name": "python",
   "nbconvert_exporter": "python",
   "pygments_lexer": "ipython3",
   "version": "3.11.13"
  }
 },
 "nbformat": 4,
 "nbformat_minor": 5
}
